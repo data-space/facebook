{
 "cells": [
  {
   "cell_type": "markdown",
   "metadata": {},
   "source": [
    "---\n",
    "title: 'Analysing Facebook data with R'\n",
    "author: \"Kanav Katyal\"\n",
    "date: \"March 25, 2016\"\n",
    "output: \n",
    "  html_document\n",
    "---\n",
    "\n",
    "\n",
    "# 1. Introduction\n",
    "The goal of this report is to analyse facebook data using facebook API and R.The data on the facebook can be analysed with R or Python but this report focuses on R. The way this goes is by connecting your R to facebook API. After a succesfull connection is made we can extract data from public pages,posts, froups or public profiles. Although facebook has put alot of restrictions on their latest update of  API's due to privacy issues still this is possible.\n",
    "\n",
    "So there are basically two ways to connect to the API,Via an app or via a temporary token.\n",
    "Using the app has an advantage that this is valid for atleast two months, but the process of creating an app and then connecting it to your R console is more complicated than compared to a temporary token.Also you won´t get all the data available via this method.\n",
    "\n",
    "The connection via the temporary token is much more easier and will give you more data but the token is only valid for 2 hours. After 2 hours the token has to be refreshed and the new token has to be used. Also you have to be always logged in for doing this analysis. In further section we will look on how to connect R to facebook API via a temporary authentication token.\n",
    "\n",
    "\n"
   ]
  },
  {
   "cell_type": "markdown",
   "metadata": {},
   "source": [
    "# 2. Connecting R to Facebook\n",
    "Before doing anything you need to login to our facebook account. After that we have to install the package Rfacebook and devtools. Rfacebook package provides a series of functions that allow R users to access Facebook's API to get information about public pages, groups, and posts, as well as some of the authenticated user's private data. Authenticated user here means the user who is logged in. \n",
    "Rfacebook is being installed from github because the latest version of this package is available on github itself.\n"
   ]
  },
  {
   "cell_type": "code",
   "execution_count": 16,
   "metadata": {},
   "outputs": [
    {
     "name": "stderr",
     "output_type": "stream",
     "text": [
      "Installing package into 'C:/Users/Kanav/Documents/R/win-library/3.3'\n",
      "(as 'lib' is unspecified)\n"
     ]
    },
    {
     "name": "stdout",
     "output_type": "stream",
     "text": [
      "package 'Rfacebook' successfully unpacked and MD5 sums checked\n",
      "\n",
      "The downloaded binary packages are in\n",
      "\tC:\\Users\\Kanav\\AppData\\Local\\Temp\\RtmpAz1y9P\\downloaded_packages\n"
     ]
    },
    {
     "name": "stderr",
     "output_type": "stream",
     "text": [
      "Loading required package: Rfacebook\n",
      "Warning message:\n",
      "\"package 'Rfacebook' was built under R version 3.3.3\"Loading required package: httr\n",
      "Loading required package: rjson\n",
      "Loading required package: httpuv\n",
      "\n",
      "Attaching package: 'Rfacebook'\n",
      "\n",
      "The following object is masked from 'package:methods':\n",
      "\n",
      "    getGroup\n",
      "\n"
     ]
    }
   ],
   "source": [
    "\n",
    "install.packages(\"devtools\")\n",
    "library(devtools)\n",
    "install.packages(\"Rfacebook\",repos = \"http://cran.us.r-project.org\")\n",
    "require(Rfacebook)\n",
    "\n",
    "\n",
    "\n",
    "\n"
   ]
  },
  {
   "cell_type": "markdown",
   "metadata": {},
   "source": [
    "After installing these packages the API request needs an authentication token through which it will be having access.There are two ways of making authenticated requests with Rfacebook. One of the option is to generate a temporary token on the Graph API Explorer.Then just copy and paste that token into the R console and save it as a string vector to be passed as an argument to any function in the Rfacebook package.\n",
    "\n",
    "For generating the token you need to go on this link\n",
    "#token generated here: https://developers.facebook.com/tools/explorer \n",
    "As this page will open you can see an access token tab and just copy it. If there is no access token then on the top right corenr of the page there is a tab for \"Get Token\". If you will click on it, a new token with be generated.\n",
    "\n",
    "\n"
   ]
  },
  {
   "cell_type": "code",
   "execution_count": 17,
   "metadata": {
    "scrolled": true
   },
   "outputs": [
    {
     "data": {
      "text/html": [
       "'Kanav Katyal'"
      ],
      "text/latex": [
       "'Kanav Katyal'"
      ],
      "text/markdown": [
       "'Kanav Katyal'"
      ],
      "text/plain": [
       "[1] \"Kanav Katyal\""
      ]
     },
     "metadata": {},
     "output_type": "display_data"
    },
    {
     "data": {
      "text/plain": [
       "[1] NA"
      ]
     },
     "metadata": {},
     "output_type": "display_data"
    },
    {
     "data": {
      "text/html": [
       "'male'"
      ],
      "text/latex": [
       "'male'"
      ],
      "text/markdown": [
       "'male'"
      ],
      "text/plain": [
       "[1] \"male\""
      ]
     },
     "metadata": {},
     "output_type": "display_data"
    },
    {
     "data": {
      "text/html": [
       "'01/30/1991'"
      ],
      "text/latex": [
       "'01/30/1991'"
      ],
      "text/markdown": [
       "'01/30/1991'"
      ],
      "text/plain": [
       "[1] \"01/30/1991\""
      ]
     },
     "metadata": {},
     "output_type": "display_data"
    },
    {
     "data": {
      "text/html": [
       "'Boston, Massachusetts'"
      ],
      "text/latex": [
       "'Boston, Massachusetts'"
      ],
      "text/markdown": [
       "'Boston, Massachusetts'"
      ],
      "text/plain": [
       "[1] \"Boston, Massachusetts\""
      ]
     },
     "metadata": {},
     "output_type": "display_data"
    }
   ],
   "source": [
    "\n",
    "\n",
    "\n",
    "token <- 'EAACEdEose0cBACNOkZA6ZByKDEHyGjSfZBdcLihqBFbBLZC8tGLJm4mILomsW03BuUEW4FwGdsR9HCX0VwuPCaZBy9lcNgxhfXwbDxhTii8JyVDFCsXDQ8IunW9mP6YvbMFA54OXGg9tuJ2ZApqI5QRqWwkhHEKrgAyoQCnrlOYEQwbp9Ej2BZASC0xJTX5LawZD'\n",
    "me <- getUsers(\"me\", token, private_info=TRUE)\n",
    "me$name\n",
    "me$username\n",
    "me$gender\n",
    "me$birthday\n",
    "me$location\n"
   ]
  },
  {
   "cell_type": "markdown",
   "metadata": {},
   "source": []
  },
  {
   "cell_type": "markdown",
   "metadata": {
    "collapsed": true
   },
   "source": [
    "# 3. Analyising data from facebook\n",
    "\n",
    "## 3.1 Analyising posts on public pages\n",
    "Now lets look at posts that are being posted to a public page since it was craeted. To get all the data of the posts there is a function called 'getPage' in Rfacebook package which returns all the posts from that page. The constraint here is still the same that the page should be public.\n",
    "Here is the usage of this function getPage('page', token, n = 1000) where,\n",
    "page is the name of the facebook page \n",
    "token is our authentication code which we have saved it as a string vector and \n",
    "n is the number of posts that we want to extract.We put n eaqual to alarge number so that we can get all the posts though it changes from page to page.\n",
    "\n",
    "Note: Everything on the facebook has a facebook id which can be found out at www.findmyfbid.com. In place of 'page' facebook id of that page can also be used.\n",
    "\n",
    "\n",
    "There is a page on facebook for the Bentley Analytics Society and I am fetching all its post since the day it was created to further analyse them."
   ]
  },
  {
   "cell_type": "code",
   "execution_count": 19,
   "metadata": {},
   "outputs": [
    {
     "name": "stdout",
     "output_type": "stream",
     "text": [
      "25 posts 50 posts 75 posts 100 posts 125 posts 150 posts 175 posts 200 posts 225 posts 250 posts 275 posts 276 posts "
     ]
    }
   ],
   "source": [
    "BAS = getPage('bentleyAS', token, n=500)"
   ]
  },
  {
   "cell_type": "code",
   "execution_count": null,
   "metadata": {
    "collapsed": true
   },
   "outputs": [],
   "source": []
  }
 ],
 "metadata": {
  "anaconda-cloud": {},
  "kernelspec": {
   "display_name": "R [my-r-env]",
   "language": "R",
   "name": "R [my-r-env]"
  },
  "language_info": {
   "codemirror_mode": "r",
   "file_extension": ".r",
   "mimetype": "text/x-r-source",
   "name": "R",
   "pygments_lexer": "r",
   "version": "3.3.2"
  }
 },
 "nbformat": 4,
 "nbformat_minor": 1
}
